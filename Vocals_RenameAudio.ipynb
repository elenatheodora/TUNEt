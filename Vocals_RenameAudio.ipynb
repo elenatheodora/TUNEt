{
 "cells": [
  {
   "cell_type": "markdown",
   "id": "009391b7",
   "metadata": {},
   "source": [
    "Elena Georgieva\n",
    "Vocal Tuning Project\n",
    "NYU DS 1008\n",
    "Spring 2022\n",
    "GitHub: https://github.com/elenatheodora/TUNEt"
   ]
  },
  {
   "cell_type": "code",
   "execution_count": 1,
   "id": "335b5380",
   "metadata": {},
   "outputs": [],
   "source": [
    "import numpy as np\n",
    "import librosa\n",
    "import pandas as pd\n",
    "import IPython.display as ipd\n",
    "import matplotlib.pyplot as plt\n",
    "import librosa.display\n",
    "import os\n",
    "import subprocess\n",
    "from IPython.display import Audio\n",
    "import base64\n",
    "import pedalboard\n",
    "from scipy.io.wavfile import write\n",
    "import glob\n",
    "import shutil"
   ]
  },
  {
   "cell_type": "code",
   "execution_count": null,
   "id": "58b1251d",
   "metadata": {},
   "outputs": [],
   "source": [
    "## rename audio files so .wav isn't a typo twice\n",
    "## Load audio files\n",
    "path = \"/Users/elenageorgieva/Desktop/vtd/train/shifted\"    \n",
    "\n",
    "raw_filenames = os.listdir(path)\n",
    "all_filenames = [f for f in raw_filenames] # raw_filenames[0:3] to test first few\n",
    "\n",
    "for file in all_filenames:\n",
    "    if (file == \".DS_Store\"): # weird error, ignore .DS_Store \n",
    "        continue\n",
    "    print(file)\n",
    "    parts = file.split('.wav') #[abc, 2000.jpg]\n",
    "    new_name = parts[0]+ parts[1] + '.wav' \n",
    "    print(new_name)\n",
    "    os.rename(os.path.join(path, file), os.path.join(path, new_name))\n"
   ]
  },
  {
   "cell_type": "code",
   "execution_count": 20,
   "id": "f4f5f002",
   "metadata": {},
   "outputs": [],
   "source": [
    "## Rename output files \n",
    "path = \"/Users/elenageorgieva/Desktop/vtd/train/output\"    \n",
    "\n",
    "raw_filenames = os.listdir(path)\n",
    "all_filenames = [f for f in raw_filenames] # raw_filenames[0:3] to test first few\n",
    "semitones_arr = [0.1, 0.2, 0.3, 0.4, 0.5, -0.1, -0.2, -0.3, -0.4, -0.5]\n",
    "\n",
    "for file in all_filenames:\n",
    "    #print(file)\n",
    "    if (file == \".DS_Store\" or file ==\"duplicates\"): # weird error, ignore .DS_Store \n",
    "        continue\n",
    "    dest_dir = path+\"/duplicates\"\n",
    "    src_file = os.path.join(path, file)\n",
    "    for amount in semitones_arr:\n",
    "        shutil.copy(src_file,dest_dir) #copy the file to destination dir\n",
    "        dst_file = os.path.join(dest_dir,file)\n",
    "        parts = file.split('.wav')\n",
    "        filename = parts[0] + \"_\" + str(amount)+'.wav'\n",
    "        new_dst_file_name = os.path.join(dest_dir, filename)\n",
    "        #print(new_dst_file_name)\n",
    "        os.rename(dst_file, new_dst_file_name)#rename\n",
    "        #os.chdir(dest_dir)\n"
   ]
  },
  {
   "cell_type": "code",
   "execution_count": null,
   "id": "cd1f2ae8",
   "metadata": {},
   "outputs": [],
   "source": []
  },
  {
   "cell_type": "code",
   "execution_count": null,
   "id": "7a6e8be4",
   "metadata": {},
   "outputs": [],
   "source": []
  }
 ],
 "metadata": {
  "kernelspec": {
   "display_name": "Python 3 (ipykernel)",
   "language": "python",
   "name": "python3"
  },
  "language_info": {
   "codemirror_mode": {
    "name": "ipython",
    "version": 3
   },
   "file_extension": ".py",
   "mimetype": "text/x-python",
   "name": "python",
   "nbconvert_exporter": "python",
   "pygments_lexer": "ipython3",
   "version": "3.9.5"
  }
 },
 "nbformat": 4,
 "nbformat_minor": 5
}
