{
 "cells": [
  {
   "cell_type": "markdown",
   "id": "19d91cc9",
   "metadata": {},
   "source": [
    "Elena Georgieva\n",
    "Vocal Tunign Project: Detune Audio\n",
    "DS 1008\n",
    "Spring 2022"
   ]
  },
  {
   "cell_type": "code",
   "execution_count": 3,
   "id": "e8fdb22f",
   "metadata": {},
   "outputs": [],
   "source": [
    "import numpy as np\n",
    "import librosa\n",
    "import pandas as pd\n",
    "import IPython.display as ipd\n",
    "%matplotlib inline\n",
    "import matplotlib.pyplot as plt\n",
    "import librosa.display\n",
    "import os"
   ]
  },
  {
   "cell_type": "code",
   "execution_count": 9,
   "id": "6cd41f15",
   "metadata": {},
   "outputs": [],
   "source": [
    "## Load one audio file\n",
    "fs = 44100  \n",
    "path = \"/Users/elenageorgieva/Desktop/vtd/train/\"    \n",
    "raw_path = path + \"raw\" # input data\n",
    "\n",
    "raw_filenames = os.listdir(raw_path)\n",
    "all_filenames = [f for f in raw_filenames] # raw_filenames[0:3] to test first few\n",
    "\n",
    "## prints audio file names\n",
    "#for audio_file in all_filenames:\n",
    "    #print(audio_file) "
   ]
  },
  {
   "cell_type": "code",
   "execution_count": null,
   "id": "8b48b470",
   "metadata": {},
   "outputs": [],
   "source": [
    "\n",
    "\n"
   ]
  }
 ],
 "metadata": {
  "kernelspec": {
   "display_name": "Python 3 (ipykernel)",
   "language": "python",
   "name": "python3"
  },
  "language_info": {
   "codemirror_mode": {
    "name": "ipython",
    "version": 3
   },
   "file_extension": ".py",
   "mimetype": "text/x-python",
   "name": "python",
   "nbconvert_exporter": "python",
   "pygments_lexer": "ipython3",
   "version": "3.9.6"
  }
 },
 "nbformat": 4,
 "nbformat_minor": 5
}
